{
  "nbformat": 4,
  "nbformat_minor": 0,
  "metadata": {
    "colab": {
      "name": "Choura.ipynb",
      "provenance": [],
      "collapsed_sections": []
    },
    "kernelspec": {
      "name": "python3",
      "display_name": "Python 3"
    },
    "language_info": {
      "name": "python"
    }
  },
  "cells": [
    {
      "cell_type": "code",
      "metadata": {
        "colab": {
          "base_uri": "https://localhost:8080/"
        },
        "id": "yArGnvLJeyeC",
        "outputId": "838d1f73-7992-4afb-f0dc-b667906136e0"
      },
      "source": [
        "from google.colab import drive\n",
        "drive.mount('/content/drive')"
      ],
      "execution_count": null,
      "outputs": [
        {
          "output_type": "stream",
          "text": [
            "Drive already mounted at /content/drive; to attempt to forcibly remount, call drive.mount(\"/content/drive\", force_remount=True).\n"
          ],
          "name": "stdout"
        }
      ]
    },
    {
      "cell_type": "code",
      "metadata": {
        "colab": {
          "base_uri": "https://localhost:8080/"
        },
        "id": "RpM6ONMnMvGT",
        "collapsed": true,
        "outputId": "5485f2dd-f425-4737-8a60-8eca15c6e602"
      },
      "source": [
        "!apt-get update"
      ],
      "execution_count": null,
      "outputs": [
        {
          "output_type": "stream",
          "text": [
            "\r0% [Working]\r            \rHit:1 https://cloud.r-project.org/bin/linux/ubuntu bionic-cran40/ InRelease\n",
            "\r0% [Connecting to archive.ubuntu.com] [Connecting to security.ubuntu.com (91.18\r0% [1 InRelease gpgv 3,626 B] [Connecting to archive.ubuntu.com] [Connecting to\r                                                                               \rIgn:2 https://developer.download.nvidia.com/compute/cuda/repos/ubuntu1804/x86_64  InRelease\n",
            "\r0% [1 InRelease gpgv 3,626 B] [Connecting to archive.ubuntu.com] [Connecting to\r                                                                               \rIgn:3 https://developer.download.nvidia.com/compute/machine-learning/repos/ubuntu1804/x86_64  InRelease\n",
            "\r0% [1 InRelease gpgv 3,626 B] [Connecting to archive.ubuntu.com] [Connecting to\r                                                                               \rHit:4 https://developer.download.nvidia.com/compute/cuda/repos/ubuntu1804/x86_64  Release\n",
            "Hit:5 https://developer.download.nvidia.com/compute/machine-learning/repos/ubuntu1804/x86_64  Release\n",
            "Get:6 http://security.ubuntu.com/ubuntu bionic-security InRelease [88.7 kB]\n",
            "Hit:7 http://ppa.launchpad.net/c2d4u.team/c2d4u4.0+/ubuntu bionic InRelease\n",
            "Hit:8 http://archive.ubuntu.com/ubuntu bionic InRelease\n",
            "Get:9 http://archive.ubuntu.com/ubuntu bionic-updates InRelease [88.7 kB]\n",
            "Hit:11 http://ppa.launchpad.net/cran/libgit2/ubuntu bionic InRelease\n",
            "Hit:13 http://ppa.launchpad.net/deadsnakes/ppa/ubuntu bionic InRelease\n",
            "Get:14 http://archive.ubuntu.com/ubuntu bionic-backports InRelease [74.6 kB]\n",
            "Hit:15 http://ppa.launchpad.net/graphics-drivers/ppa/ubuntu bionic InRelease\n",
            "Get:16 http://security.ubuntu.com/ubuntu bionic-security/main amd64 Packages [2,119 kB]\n",
            "Fetched 2,371 kB in 3s (726 kB/s)\n",
            "Reading package lists... Done\n"
          ],
          "name": "stdout"
        }
      ]
    },
    {
      "cell_type": "code",
      "metadata": {
        "id": "8c-1pFmUMXTp"
      },
      "source": [
        "# innstall java\n",
        "!apt-get install openjdk-8-jdk-headless -qq > /dev/null\n",
        "\n",
        "# install spark (change the version number if needed)\n",
        "!wget -q https://archive.apache.org/dist/spark/spark-3.0.0/spark-3.0.0-bin-hadoop3.2.tgz\n",
        "\n",
        "# unzip the spark file to the current folder\n",
        "!tar xf spark-3.0.0-bin-hadoop3.2.tgz\n",
        "\n",
        "# set your spark folder to your system path environment. \n",
        "import os\n",
        "os.environ[\"JAVA_HOME\"] = \"/usr/lib/jvm/java-8-openjdk-amd64\"\n",
        "os.environ[\"SPARK_HOME\"] = \"/content/spark-3.0.0-bin-hadoop3.2\"\n",
        "\n",
        "\n",
        "# install findspark using pip\n",
        "!pip install -q findspark\n"
      ],
      "execution_count": null,
      "outputs": []
    },
    {
      "cell_type": "code",
      "metadata": {
        "id": "Of9-YMS1NUTy"
      },
      "source": [
        "import findspark\n",
        "findspark.init()"
      ],
      "execution_count": null,
      "outputs": []
    },
    {
      "cell_type": "code",
      "metadata": {
        "id": "UKJcH5z8NXLX",
        "colab": {
          "base_uri": "https://localhost:8080/",
          "height": 35
        },
        "outputId": "8c6a0c76-06e8-4e84-d7d2-99415d18d612"
      },
      "source": [
        "findspark.find()"
      ],
      "execution_count": null,
      "outputs": [
        {
          "output_type": "execute_result",
          "data": {
            "application/vnd.google.colaboratory.intrinsic+json": {
              "type": "string"
            },
            "text/plain": [
              "'/content/spark-3.0.0-bin-hadoop3.2'"
            ]
          },
          "metadata": {
            "tags": []
          },
          "execution_count": 37
        }
      ]
    },
    {
      "cell_type": "code",
      "metadata": {
        "id": "f8eHF1PKOBlx",
        "colab": {
          "base_uri": "https://localhost:8080/"
        },
        "outputId": "e7d3e4a8-4f88-44fd-f306-2df2f7a29d11"
      },
      "source": [
        "print (os.listdir('./sample_data'))\n"
      ],
      "execution_count": null,
      "outputs": [
        {
          "output_type": "stream",
          "text": [
            "['README.md', 'anscombe.json', 'mnist_test.csv', 'mnist_train_small.csv', 'california_housing_train.csv', 'california_housing_test.csv']\n"
          ],
          "name": "stdout"
        }
      ]
    },
    {
      "cell_type": "code",
      "metadata": {
        "id": "eeLIesf9OPfT"
      },
      "source": [
        "file_loc = '/content/drive/My Drive/BigData_Project/aadhar.csv'\n"
      ],
      "execution_count": null,
      "outputs": []
    },
    {
      "cell_type": "code",
      "metadata": {
        "id": "XHJ-B_WyOQnM",
        "colab": {
          "base_uri": "https://localhost:8080/"
        },
        "outputId": "c9d801af-557d-45f1-9ae8-f045104085aa"
      },
      "source": [
        "from pyspark.sql import SparkSession\n",
        "spark = SparkSession.builder.master(\"local[*]\").getOrCreate()\n",
        "spark.sparkContext.getConf().getAll()\n"
      ],
      "execution_count": null,
      "outputs": [
        {
          "output_type": "execute_result",
          "data": {
            "text/plain": [
              "[('spark.driver.host', '23716fb3171a'),\n",
              " ('spark.rdd.compress', 'True'),\n",
              " ('spark.serializer.objectStreamReset', '100'),\n",
              " ('spark.driver.port', '43181'),\n",
              " ('spark.app.id', 'local-1620302871993'),\n",
              " ('spark.master', 'local[*]'),\n",
              " ('spark.submit.pyFiles', ''),\n",
              " ('spark.executor.id', 'driver'),\n",
              " ('spark.submit.deployMode', 'client'),\n",
              " ('spark.ui.showConsoleProgress', 'true'),\n",
              " ('spark.app.name', 'pyspark-shell')]"
            ]
          },
          "metadata": {
            "tags": []
          },
          "execution_count": 40
        }
      ]
    },
    {
      "cell_type": "code",
      "metadata": {
        "id": "9Yyb_Y4dOUN_"
      },
      "source": [
        "df = spark.read.csv(file_loc, inferSchema=True, header =True)\n"
      ],
      "execution_count": null,
      "outputs": []
    },
    {
      "cell_type": "code",
      "metadata": {
        "id": "kVNF8z6mOX1o",
        "colab": {
          "base_uri": "https://localhost:8080/"
        },
        "outputId": "cf21b304-a36a-483c-c0c1-7beb71300aeb"
      },
      "source": [
        "print (type(df))\n"
      ],
      "execution_count": null,
      "outputs": [
        {
          "output_type": "stream",
          "text": [
            "<class 'pyspark.sql.dataframe.DataFrame'>\n"
          ],
          "name": "stdout"
        }
      ]
    },
    {
      "cell_type": "code",
      "metadata": {
        "id": "E1_Tg8G7OdTc",
        "colab": {
          "base_uri": "https://localhost:8080/"
        },
        "outputId": "910b9ed2-ce59-4bb7-9742-8c9eb40c873f"
      },
      "source": [
        "df.printSchema()\n"
      ],
      "execution_count": null,
      "outputs": [
        {
          "output_type": "stream",
          "text": [
            "root\n",
            " |-- Registrar: string (nullable = true)\n",
            " |-- Enrolment Agency: string (nullable = true)\n",
            " |-- State: string (nullable = true)\n",
            " |-- District: string (nullable = true)\n",
            " |-- Sub District: string (nullable = true)\n",
            " |-- Pin Code: string (nullable = true)\n",
            " |-- Gender: string (nullable = true)\n",
            " |-- Age: integer (nullable = true)\n",
            " |-- Aadhaar generated: integer (nullable = true)\n",
            " |-- Enrolment Rejected: integer (nullable = true)\n",
            " |-- Residents providing email: integer (nullable = true)\n",
            " |-- Residents providing mobile number: integer (nullable = true)\n",
            "\n"
          ],
          "name": "stdout"
        }
      ]
    },
    {
      "cell_type": "code",
      "metadata": {
        "id": "8Xqy7R6hOgTa",
        "colab": {
          "base_uri": "https://localhost:8080/"
        },
        "outputId": "25c2a5ee-38ec-4ce5-d913-49219fd9362d"
      },
      "source": [
        "df.show()\n"
      ],
      "execution_count": null,
      "outputs": [
        {
          "output_type": "stream",
          "text": [
            "+--------------------+--------------------+-------------+----------+------------+--------+------+---+-----------------+------------------+-------------------------+---------------------------------+\n",
            "|           Registrar|    Enrolment Agency|        State|  District|Sub District|Pin Code|Gender|Age|Aadhaar generated|Enrolment Rejected|Residents providing email|Residents providing mobile number|\n",
            "+--------------------+--------------------+-------------+----------+------------+--------+------+---+-----------------+------------------+-------------------------+---------------------------------+\n",
            "|      Allahabad Bank|A-Onerealtors Pvt...|Uttar Pradesh| Allahabad|        Meja|  212303|     F|  7|                1|                 0|                        0|                                1|\n",
            "|      Allahabad Bank|Asha Security Gua...|Uttar Pradesh| Sonbhadra| Robertsganj|  231213|     M|  8|                1|                 0|                        0|                                0|\n",
            "|      Allahabad Bank|   SGS INDIA PVT LTD|Uttar Pradesh| Sultanpur|   Sultanpur|  227812|     F| 13|                1|                 0|                        0|                                1|\n",
            "|      Allahabad Bank|Sri Ramraja Sarka...|Uttar Pradesh|    Shamli|      Shamli|  247775|     M|  6|                1|                 0|                        0|                                1|\n",
            "|      Allahabad Bank|  Transmoovers India|Uttar Pradesh| Gorakhpur|    Sahjanwa|  273001|     M|  8|                1|                 0|                        0|                                1|\n",
            "|      Allahabad Bank|  Transmoovers India|Uttar Pradesh|  Varanasi|      Pindra|  221101|     M| 14|                1|                 0|                        0|                                1|\n",
            "|      Allahabad Bank|  Transmoovers India|Uttar Pradesh|  Varanasi|    Varanasi|  221001|     M|  9|                1|                 0|                        0|                                1|\n",
            "|      Allahabad Bank|  Transmoovers India|Uttar Pradesh|  Varanasi|    Varanasi|  221002|     M|  4|                1|                 0|                        0|                                1|\n",
            "|      Allahabad Bank|  Transmoovers India|Uttar Pradesh|  Varanasi|    Varanasi|  221002|     M| 10|                0|                 1|                        0|                                1|\n",
            "|      Allahabad Bank|  Transmoovers India|Uttar Pradesh|  Varanasi|    Varanasi|  221002|     M| 19|                1|                 0|                        0|                                1|\n",
            "|      Allahabad Bank|Vedavaag Systems ...|Uttar Pradesh|Bara Banki|   Nawabganj|  225301|     M|  8|                1|                 0|                        0|                                0|\n",
            "|Atalji Janasnehi ...|Atalji Janasnehi ...|        Assam|  Marigaon|   Bhuragaon|  782121|     M| 22|                1|                 0|                        0|                                1|\n",
            "|Atalji Janasnehi ...|Atalji Janasnehi ...|        Bihar| Gopalganj|  Vijayeepur|  841508|     M| 26|                1|                 0|                        0|                                1|\n",
            "|Atalji Janasnehi ...|Atalji Janasnehi ...|    Karnataka|  Bagalkot|      Badami|  587114|     M| 27|                1|                 0|                        0|                                1|\n",
            "|Atalji Janasnehi ...|Atalji Janasnehi ...|    Karnataka|  Bagalkot|      Badami|  587155|     F|  2|                1|                 0|                        0|                                1|\n",
            "|Atalji Janasnehi ...|Atalji Janasnehi ...|    Karnataka|  Bagalkot|      Badami|  587155|     M| 67|                1|                 0|                        0|                                1|\n",
            "|Atalji Janasnehi ...|Atalji Janasnehi ...|    Karnataka|  Bagalkot|      Badami|  587201|     F| 32|                1|                 0|                        0|                                1|\n",
            "|Atalji Janasnehi ...|Atalji Janasnehi ...|    Karnataka|  Bagalkot|      Badami|  587203|     M| 27|                1|                 0|                        0|                                1|\n",
            "|Atalji Janasnehi ...|Atalji Janasnehi ...|    Karnataka|  Bagalkot|      Badami|  587206|     F| 40|                1|                 0|                        0|                                0|\n",
            "|Atalji Janasnehi ...|Atalji Janasnehi ...|    Karnataka|  Bagalkot|      Badami|  587206|     M| 28|                1|                 0|                        0|                                1|\n",
            "+--------------------+--------------------+-------------+----------+------------+--------+------+---+-----------------+------------------+-------------------------+---------------------------------+\n",
            "only showing top 20 rows\n",
            "\n"
          ],
          "name": "stdout"
        }
      ]
    },
    {
      "cell_type": "code",
      "metadata": {
        "id": "1rzLzTinOmtU"
      },
      "source": [
        "#df.createOrReplaceTempView()"
      ],
      "execution_count": null,
      "outputs": []
    },
    {
      "cell_type": "code",
      "metadata": {
        "id": "5hV2sRZgO0rG"
      },
      "source": [
        "import pyspark.sql.functions as F"
      ],
      "execution_count": null,
      "outputs": []
    },
    {
      "cell_type": "code",
      "metadata": {
        "id": "8OMPXywOTFOh",
        "colab": {
          "base_uri": "https://localhost:8080/"
        },
        "outputId": "f2629919-d733-4664-ecba-e6e8791c764c"
      },
      "source": [
        "df.show()"
      ],
      "execution_count": null,
      "outputs": [
        {
          "output_type": "stream",
          "text": [
            "+--------------------+--------------------+-------------+----------+------------+--------+------+---+-----------------+------------------+-------------------------+---------------------------------+\n",
            "|           Registrar|    Enrolment Agency|        State|  District|Sub District|Pin Code|Gender|Age|Aadhaar generated|Enrolment Rejected|Residents providing email|Residents providing mobile number|\n",
            "+--------------------+--------------------+-------------+----------+------------+--------+------+---+-----------------+------------------+-------------------------+---------------------------------+\n",
            "|      Allahabad Bank|A-Onerealtors Pvt...|Uttar Pradesh| Allahabad|        Meja|  212303|     F|  7|                1|                 0|                        0|                                1|\n",
            "|      Allahabad Bank|Asha Security Gua...|Uttar Pradesh| Sonbhadra| Robertsganj|  231213|     M|  8|                1|                 0|                        0|                                0|\n",
            "|      Allahabad Bank|   SGS INDIA PVT LTD|Uttar Pradesh| Sultanpur|   Sultanpur|  227812|     F| 13|                1|                 0|                        0|                                1|\n",
            "|      Allahabad Bank|Sri Ramraja Sarka...|Uttar Pradesh|    Shamli|      Shamli|  247775|     M|  6|                1|                 0|                        0|                                1|\n",
            "|      Allahabad Bank|  Transmoovers India|Uttar Pradesh| Gorakhpur|    Sahjanwa|  273001|     M|  8|                1|                 0|                        0|                                1|\n",
            "|      Allahabad Bank|  Transmoovers India|Uttar Pradesh|  Varanasi|      Pindra|  221101|     M| 14|                1|                 0|                        0|                                1|\n",
            "|      Allahabad Bank|  Transmoovers India|Uttar Pradesh|  Varanasi|    Varanasi|  221001|     M|  9|                1|                 0|                        0|                                1|\n",
            "|      Allahabad Bank|  Transmoovers India|Uttar Pradesh|  Varanasi|    Varanasi|  221002|     M|  4|                1|                 0|                        0|                                1|\n",
            "|      Allahabad Bank|  Transmoovers India|Uttar Pradesh|  Varanasi|    Varanasi|  221002|     M| 10|                0|                 1|                        0|                                1|\n",
            "|      Allahabad Bank|  Transmoovers India|Uttar Pradesh|  Varanasi|    Varanasi|  221002|     M| 19|                1|                 0|                        0|                                1|\n",
            "|      Allahabad Bank|Vedavaag Systems ...|Uttar Pradesh|Bara Banki|   Nawabganj|  225301|     M|  8|                1|                 0|                        0|                                0|\n",
            "|Atalji Janasnehi ...|Atalji Janasnehi ...|        Assam|  Marigaon|   Bhuragaon|  782121|     M| 22|                1|                 0|                        0|                                1|\n",
            "|Atalji Janasnehi ...|Atalji Janasnehi ...|        Bihar| Gopalganj|  Vijayeepur|  841508|     M| 26|                1|                 0|                        0|                                1|\n",
            "|Atalji Janasnehi ...|Atalji Janasnehi ...|    Karnataka|  Bagalkot|      Badami|  587114|     M| 27|                1|                 0|                        0|                                1|\n",
            "|Atalji Janasnehi ...|Atalji Janasnehi ...|    Karnataka|  Bagalkot|      Badami|  587155|     F|  2|                1|                 0|                        0|                                1|\n",
            "|Atalji Janasnehi ...|Atalji Janasnehi ...|    Karnataka|  Bagalkot|      Badami|  587155|     M| 67|                1|                 0|                        0|                                1|\n",
            "|Atalji Janasnehi ...|Atalji Janasnehi ...|    Karnataka|  Bagalkot|      Badami|  587201|     F| 32|                1|                 0|                        0|                                1|\n",
            "|Atalji Janasnehi ...|Atalji Janasnehi ...|    Karnataka|  Bagalkot|      Badami|  587203|     M| 27|                1|                 0|                        0|                                1|\n",
            "|Atalji Janasnehi ...|Atalji Janasnehi ...|    Karnataka|  Bagalkot|      Badami|  587206|     F| 40|                1|                 0|                        0|                                0|\n",
            "|Atalji Janasnehi ...|Atalji Janasnehi ...|    Karnataka|  Bagalkot|      Badami|  587206|     M| 28|                1|                 0|                        0|                                1|\n",
            "+--------------------+--------------------+-------------+----------+------------+--------+------+---+-----------------+------------------+-------------------------+---------------------------------+\n",
            "only showing top 20 rows\n",
            "\n"
          ],
          "name": "stdout"
        }
      ]
    },
    {
      "cell_type": "code",
      "metadata": {
        "id": "SAzfot6-ftWG",
        "colab": {
          "base_uri": "https://localhost:8080/"
        },
        "outputId": "f84dc5a3-b15f-428b-e5a1-220a3d82d944"
      },
      "source": [
        "df.groupBy([\"State\"]).sum(\"Aadhaar generated\").show(5)\n"
      ],
      "execution_count": null,
      "outputs": [
        {
          "output_type": "stream",
          "text": [
            "+----------+----------------------+\n",
            "|     State|sum(Aadhaar generated)|\n",
            "+----------+----------------------+\n",
            "|  Nagaland|                   545|\n",
            "| Karnataka|                 19764|\n",
            "|    Odisha|                 18182|\n",
            "|    Kerala|                 15143|\n",
            "|Tamil Nadu|                 32485|\n",
            "+----------+----------------------+\n",
            "only showing top 5 rows\n",
            "\n"
          ],
          "name": "stdout"
        }
      ]
    },
    {
      "cell_type": "code",
      "metadata": {
        "id": "nyshoTS8ljBo",
        "colab": {
          "base_uri": "https://localhost:8080/"
        },
        "outputId": "c67aadff-65a4-4a78-dd47-b48850212f58"
      },
      "source": [
        "df.groupBy([\"State\"]).sum(\"Enrolment Rejected\").show(5)\n"
      ],
      "execution_count": null,
      "outputs": [
        {
          "output_type": "stream",
          "text": [
            "+----------+-----------------------+\n",
            "|     State|sum(Enrolment Rejected)|\n",
            "+----------+-----------------------+\n",
            "|  Nagaland|                     43|\n",
            "| Karnataka|                   1445|\n",
            "|    Odisha|                   1596|\n",
            "|    Kerala|                    538|\n",
            "|Tamil Nadu|                   1193|\n",
            "+----------+-----------------------+\n",
            "only showing top 5 rows\n",
            "\n"
          ],
          "name": "stdout"
        }
      ]
    },
    {
      "cell_type": "code",
      "metadata": {
        "id": "MKzadoXJiovj",
        "colab": {
          "base_uri": "https://localhost:8080/"
        },
        "outputId": "7d3566fc-a7bc-4977-9c1a-3f6cc38e0fdf"
      },
      "source": [
        "df.groupBy([\"Enrolment Agency\"]).sum(\"Enrolment Rejected\").show(5)"
      ],
      "execution_count": null,
      "outputs": [
        {
          "output_type": "stream",
          "text": [
            "+--------------------+-----------------------+\n",
            "|    Enrolment Agency|sum(Enrolment Rejected)|\n",
            "+--------------------+-----------------------+\n",
            "|Raj Construction Co.|                     21|\n",
            "|      CO JOMLO MOBUK|                     13|\n",
            "|NPS Technologies ...|                    613|\n",
            "|    APOnline Limited|                     22|\n",
            "|         DC Serchhip|                      3|\n",
            "+--------------------+-----------------------+\n",
            "only showing top 5 rows\n",
            "\n"
          ],
          "name": "stdout"
        }
      ]
    },
    {
      "cell_type": "code",
      "metadata": {
        "id": "eN_r_O63j6Xf",
        "colab": {
          "base_uri": "https://localhost:8080/"
        },
        "outputId": "f38d089a-c394-4a73-b594-cf8dd6ae9ac3"
      },
      "source": [
        "df.groupBy([\"Enrolment Agency\"]).sum(\"Aadhaar generated\").show(5)\n"
      ],
      "execution_count": null,
      "outputs": [
        {
          "output_type": "stream",
          "text": [
            "+--------------------+----------------------+\n",
            "|    Enrolment Agency|sum(Aadhaar generated)|\n",
            "+--------------------+----------------------+\n",
            "|Raj Construction Co.|                   532|\n",
            "|      CO JOMLO MOBUK|                     8|\n",
            "|NPS Technologies ...|                  9692|\n",
            "|    APOnline Limited|                   305|\n",
            "|         DC Serchhip|                  1067|\n",
            "+--------------------+----------------------+\n",
            "only showing top 5 rows\n",
            "\n"
          ],
          "name": "stdout"
        }
      ]
    },
    {
      "cell_type": "code",
      "metadata": {
        "id": "oHgkYuKkn9jd",
        "colab": {
          "base_uri": "https://localhost:8080/"
        },
        "outputId": "a41db3ac-4444-4c02-8c33-eb3baba7eed3"
      },
      "source": [
        "df.groupBy([\"State\"]).mean(\"Age\").show(5)\n",
        "\n"
      ],
      "execution_count": null,
      "outputs": [
        {
          "output_type": "stream",
          "text": [
            "+----------+------------------+\n",
            "|     State|          avg(Age)|\n",
            "+----------+------------------+\n",
            "|  Nagaland|27.410714285714285|\n",
            "| Karnataka|  17.5915582354808|\n",
            "|    Odisha|20.469595723354495|\n",
            "|    Kerala| 27.02924543544999|\n",
            "|Tamil Nadu| 22.59313077939234|\n",
            "+----------+------------------+\n",
            "only showing top 5 rows\n",
            "\n"
          ],
          "name": "stdout"
        }
      ]
    },
    {
      "cell_type": "code",
      "metadata": {
        "id": "qPvC8LTbp16r",
        "colab": {
          "base_uri": "https://localhost:8080/"
        },
        "outputId": "24b4ad45-61a0-4965-f851-e02bb91ac631"
      },
      "source": [
        "df.groupBy([\"State\"]).sum(\"Residents providing mobile number\").show(5)\n"
      ],
      "execution_count": null,
      "outputs": [
        {
          "output_type": "stream",
          "text": [
            "+----------+--------------------------------------+\n",
            "|     State|sum(Residents providing mobile number)|\n",
            "+----------+--------------------------------------+\n",
            "|  Nagaland|                                   579|\n",
            "| Karnataka|                                 18336|\n",
            "|    Odisha|                                 10290|\n",
            "|    Kerala|                                 14023|\n",
            "|Tamil Nadu|                                 29813|\n",
            "+----------+--------------------------------------+\n",
            "only showing top 5 rows\n",
            "\n"
          ],
          "name": "stdout"
        }
      ]
    },
    {
      "cell_type": "code",
      "metadata": {
        "id": "ggQnFgoVqLto",
        "colab": {
          "base_uri": "https://localhost:8080/"
        },
        "outputId": "f6f09a03-9757-462d-f006-2bcabd3d8475"
      },
      "source": [
        "df.groupBy([\"State\"]).sum(\"Residents providing email\").show(5)\n"
      ],
      "execution_count": null,
      "outputs": [
        {
          "output_type": "stream",
          "text": [
            "+----------+------------------------------+\n",
            "|     State|sum(Residents providing email)|\n",
            "+----------+------------------------------+\n",
            "|  Nagaland|                             6|\n",
            "| Karnataka|                          1111|\n",
            "|    Odisha|                           708|\n",
            "|    Kerala|                          1161|\n",
            "|Tamil Nadu|                          1034|\n",
            "+----------+------------------------------+\n",
            "only showing top 5 rows\n",
            "\n"
          ],
          "name": "stdout"
        }
      ]
    },
    {
      "cell_type": "code",
      "metadata": {
        "id": "s4NPFLje4yMT",
        "colab": {
          "base_uri": "https://localhost:8080/"
        },
        "outputId": "48411b10-368a-4359-ec08-53fa7a9c27a6"
      },
      "source": [
        "df.groupBy([\"Gender\"]).count().show(5)\n"
      ],
      "execution_count": null,
      "outputs": [
        {
          "output_type": "stream",
          "text": [
            "+------+------+\n",
            "|Gender| count|\n",
            "+------+------+\n",
            "|     F|148013|\n",
            "|     T|     7|\n",
            "|     M|292798|\n",
            "+------+------+\n",
            "\n"
          ],
          "name": "stdout"
        }
      ]
    },
    {
      "cell_type": "code",
      "metadata": {
        "id": "rXzdV4lv5_U5",
        "colab": {
          "base_uri": "https://localhost:8080/"
        },
        "outputId": "166be3b1-7a1f-4578-f3cf-93a4fc2d4de5"
      },
      "source": [
        "df.groupBy(\"state\",\"Gender\").count().show(30)\n",
        "    ## EXTRA"
      ],
      "execution_count": null,
      "outputs": [
        {
          "output_type": "stream",
          "text": [
            "+--------------------+------+-----+\n",
            "|               state|Gender|count|\n",
            "+--------------------+------+-----+\n",
            "|             Manipur|     M|  375|\n",
            "|Andaman and Nicob...|     F|    5|\n",
            "|      Madhya Pradesh|     F|12747|\n",
            "|              Odisha|     M| 6830|\n",
            "|           Rajasthan|     M|19523|\n",
            "|         Uttarakhand|     F| 1741|\n",
            "|              Punjab|     F| 1934|\n",
            "|             Tripura|     M|  594|\n",
            "|             Mizoram|     F| 1291|\n",
            "|           Rajasthan|     F| 9135|\n",
            "|              Others|     F|    7|\n",
            "|           Karnataka|     M| 9932|\n",
            "|         Lakshadweep|     M|    4|\n",
            "|Dadra and Nagar H...|     F|   44|\n",
            "|       Daman and Diu|     F|   19|\n",
            "|              Odisha|     T|    1|\n",
            "|               Assam|     M| 2670|\n",
            "|      Madhya Pradesh|     T|    2|\n",
            "|               Delhi|     F| 2649|\n",
            "|            Nagaland|     F|   91|\n",
            "|             Mizoram|     M| 1881|\n",
            "|                 Goa|     F|  208|\n",
            "|           Karnataka|     F| 5822|\n",
            "|                 Goa|     M|  591|\n",
            "|            Nagaland|     M|  301|\n",
            "|              Kerala|     F| 1980|\n",
            "|Andaman and Nicob...|     M|    2|\n",
            "|              Sikkim|     F|   17|\n",
            "|   Jammu and Kashmir|     F|  424|\n",
            "|             Tripura|     F|  132|\n",
            "+--------------------+------+-----+\n",
            "only showing top 30 rows\n",
            "\n"
          ],
          "name": "stdout"
        }
      ]
    },
    {
      "cell_type": "code",
      "metadata": {
        "id": "OFy4Adscln0A"
      },
      "source": [
        "df_pandas = df.toPandas()"
      ],
      "execution_count": null,
      "outputs": []
    },
    {
      "cell_type": "code",
      "metadata": {
        "colab": {
          "base_uri": "https://localhost:8080/",
          "height": 586
        },
        "id": "7BC5mc9ZmWTt",
        "outputId": "78784830-90e1-46c7-b122-26241abe6949"
      },
      "source": [
        "df_pandas"
      ],
      "execution_count": null,
      "outputs": [
        {
          "output_type": "execute_result",
          "data": {
            "text/html": [
              "<div>\n",
              "<style scoped>\n",
              "    .dataframe tbody tr th:only-of-type {\n",
              "        vertical-align: middle;\n",
              "    }\n",
              "\n",
              "    .dataframe tbody tr th {\n",
              "        vertical-align: top;\n",
              "    }\n",
              "\n",
              "    .dataframe thead th {\n",
              "        text-align: right;\n",
              "    }\n",
              "</style>\n",
              "<table border=\"1\" class=\"dataframe\">\n",
              "  <thead>\n",
              "    <tr style=\"text-align: right;\">\n",
              "      <th></th>\n",
              "      <th>Registrar</th>\n",
              "      <th>Enrolment Agency</th>\n",
              "      <th>State</th>\n",
              "      <th>District</th>\n",
              "      <th>Sub District</th>\n",
              "      <th>Pin Code</th>\n",
              "      <th>Gender</th>\n",
              "      <th>Age</th>\n",
              "      <th>Aadhaar generated</th>\n",
              "      <th>Enrolment Rejected</th>\n",
              "      <th>Residents providing email</th>\n",
              "      <th>Residents providing mobile number</th>\n",
              "    </tr>\n",
              "  </thead>\n",
              "  <tbody>\n",
              "    <tr>\n",
              "      <th>0</th>\n",
              "      <td>Allahabad Bank</td>\n",
              "      <td>A-Onerealtors Pvt Ltd</td>\n",
              "      <td>Uttar Pradesh</td>\n",
              "      <td>Allahabad</td>\n",
              "      <td>Meja</td>\n",
              "      <td>212303</td>\n",
              "      <td>F</td>\n",
              "      <td>7</td>\n",
              "      <td>1</td>\n",
              "      <td>0</td>\n",
              "      <td>0</td>\n",
              "      <td>1</td>\n",
              "    </tr>\n",
              "    <tr>\n",
              "      <th>1</th>\n",
              "      <td>Allahabad Bank</td>\n",
              "      <td>Asha Security Guard Services</td>\n",
              "      <td>Uttar Pradesh</td>\n",
              "      <td>Sonbhadra</td>\n",
              "      <td>Robertsganj</td>\n",
              "      <td>231213</td>\n",
              "      <td>M</td>\n",
              "      <td>8</td>\n",
              "      <td>1</td>\n",
              "      <td>0</td>\n",
              "      <td>0</td>\n",
              "      <td>0</td>\n",
              "    </tr>\n",
              "    <tr>\n",
              "      <th>2</th>\n",
              "      <td>Allahabad Bank</td>\n",
              "      <td>SGS INDIA PVT LTD</td>\n",
              "      <td>Uttar Pradesh</td>\n",
              "      <td>Sultanpur</td>\n",
              "      <td>Sultanpur</td>\n",
              "      <td>227812</td>\n",
              "      <td>F</td>\n",
              "      <td>13</td>\n",
              "      <td>1</td>\n",
              "      <td>0</td>\n",
              "      <td>0</td>\n",
              "      <td>1</td>\n",
              "    </tr>\n",
              "    <tr>\n",
              "      <th>3</th>\n",
              "      <td>Allahabad Bank</td>\n",
              "      <td>Sri Ramraja Sarkar Lok Kalyan Trust</td>\n",
              "      <td>Uttar Pradesh</td>\n",
              "      <td>Shamli</td>\n",
              "      <td>Shamli</td>\n",
              "      <td>247775</td>\n",
              "      <td>M</td>\n",
              "      <td>6</td>\n",
              "      <td>1</td>\n",
              "      <td>0</td>\n",
              "      <td>0</td>\n",
              "      <td>1</td>\n",
              "    </tr>\n",
              "    <tr>\n",
              "      <th>4</th>\n",
              "      <td>Allahabad Bank</td>\n",
              "      <td>Transmoovers India</td>\n",
              "      <td>Uttar Pradesh</td>\n",
              "      <td>Gorakhpur</td>\n",
              "      <td>Sahjanwa</td>\n",
              "      <td>273001</td>\n",
              "      <td>M</td>\n",
              "      <td>8</td>\n",
              "      <td>1</td>\n",
              "      <td>0</td>\n",
              "      <td>0</td>\n",
              "      <td>1</td>\n",
              "    </tr>\n",
              "    <tr>\n",
              "      <th>...</th>\n",
              "      <td>...</td>\n",
              "      <td>...</td>\n",
              "      <td>...</td>\n",
              "      <td>...</td>\n",
              "      <td>...</td>\n",
              "      <td>...</td>\n",
              "      <td>...</td>\n",
              "      <td>...</td>\n",
              "      <td>...</td>\n",
              "      <td>...</td>\n",
              "      <td>...</td>\n",
              "      <td>...</td>\n",
              "    </tr>\n",
              "    <tr>\n",
              "      <th>440813</th>\n",
              "      <td>Women and Child Development Govt. of Jharkhand</td>\n",
              "      <td>Women and Child Development</td>\n",
              "      <td>Jharkhand</td>\n",
              "      <td>Palamu</td>\n",
              "      <td>Patan</td>\n",
              "      <td>822123</td>\n",
              "      <td>M</td>\n",
              "      <td>1</td>\n",
              "      <td>3</td>\n",
              "      <td>0</td>\n",
              "      <td>0</td>\n",
              "      <td>1</td>\n",
              "    </tr>\n",
              "    <tr>\n",
              "      <th>440814</th>\n",
              "      <td>Women and Child Development Govt. of Jharkhand</td>\n",
              "      <td>Women and Child Development</td>\n",
              "      <td>Jharkhand</td>\n",
              "      <td>Palamu</td>\n",
              "      <td>Patan</td>\n",
              "      <td>822123</td>\n",
              "      <td>M</td>\n",
              "      <td>2</td>\n",
              "      <td>1</td>\n",
              "      <td>0</td>\n",
              "      <td>0</td>\n",
              "      <td>1</td>\n",
              "    </tr>\n",
              "    <tr>\n",
              "      <th>440815</th>\n",
              "      <td>Women and Child Development Govt. of Jharkhand</td>\n",
              "      <td>Women and Child Development</td>\n",
              "      <td>Jharkhand</td>\n",
              "      <td>Palamu</td>\n",
              "      <td>Patan</td>\n",
              "      <td>822123</td>\n",
              "      <td>M</td>\n",
              "      <td>3</td>\n",
              "      <td>3</td>\n",
              "      <td>0</td>\n",
              "      <td>0</td>\n",
              "      <td>1</td>\n",
              "    </tr>\n",
              "    <tr>\n",
              "      <th>440816</th>\n",
              "      <td>Women and Child Development Govt. of Jharkhand</td>\n",
              "      <td>Women and Child Development</td>\n",
              "      <td>Jharkhand</td>\n",
              "      <td>Palamu</td>\n",
              "      <td>Patan</td>\n",
              "      <td>822123</td>\n",
              "      <td>M</td>\n",
              "      <td>4</td>\n",
              "      <td>1</td>\n",
              "      <td>0</td>\n",
              "      <td>0</td>\n",
              "      <td>0</td>\n",
              "    </tr>\n",
              "    <tr>\n",
              "      <th>440817</th>\n",
              "      <td>Women and Child Development Govt. of Jharkhand</td>\n",
              "      <td>Women and Child Development</td>\n",
              "      <td>Jharkhand</td>\n",
              "      <td>Ranchi</td>\n",
              "      <td>Ranchi</td>\n",
              "      <td>834002</td>\n",
              "      <td>F</td>\n",
              "      <td>3</td>\n",
              "      <td>1</td>\n",
              "      <td>0</td>\n",
              "      <td>0</td>\n",
              "      <td>1</td>\n",
              "    </tr>\n",
              "  </tbody>\n",
              "</table>\n",
              "<p>440818 rows × 12 columns</p>\n",
              "</div>"
            ],
            "text/plain": [
              "                                             Registrar  ... Residents providing mobile number\n",
              "0                                       Allahabad Bank  ...                                 1\n",
              "1                                       Allahabad Bank  ...                                 0\n",
              "2                                       Allahabad Bank  ...                                 1\n",
              "3                                       Allahabad Bank  ...                                 1\n",
              "4                                       Allahabad Bank  ...                                 1\n",
              "...                                                ...  ...                               ...\n",
              "440813  Women and Child Development Govt. of Jharkhand  ...                                 1\n",
              "440814  Women and Child Development Govt. of Jharkhand  ...                                 1\n",
              "440815  Women and Child Development Govt. of Jharkhand  ...                                 1\n",
              "440816  Women and Child Development Govt. of Jharkhand  ...                                 0\n",
              "440817  Women and Child Development Govt. of Jharkhand  ...                                 1\n",
              "\n",
              "[440818 rows x 12 columns]"
            ]
          },
          "metadata": {
            "tags": []
          },
          "execution_count": 58
        }
      ]
    },
    {
      "cell_type": "code",
      "metadata": {
        "id": "659T4eefmo7z",
        "colab": {
          "base_uri": "https://localhost:8080/",
          "height": 436
        },
        "outputId": "83c468a1-2182-47a6-cd09-338803a870b5"
      },
      "source": [
        "gk = df_pandas[[\"State\",\"Aadhaar generated\"]].groupby(['State']).agg(\"sum\")\n",
        "gk.plot(kind='bar')"
      ],
      "execution_count": null,
      "outputs": [
        {
          "output_type": "execute_result",
          "data": {
            "text/plain": [
              "<matplotlib.axes._subplots.AxesSubplot at 0x7fe2c1ba7bd0>"
            ]
          },
          "metadata": {
            "tags": []
          },
          "execution_count": 59
        },
        {
          "output_type": "display_data",
          "data": {
            "image/png": "[encoded data removed]",
            "text/plain": [
              "<Figure size 432x288 with 1 Axes>"
            ]
          },
          "metadata": {
            "tags": [],
            "needs_background": "light"
          }
        }
      ]
    },
    {
      "cell_type": "code",
      "metadata": {
        "colab": {
          "base_uri": "https://localhost:8080/",
          "height": 436
        },
        "id": "1Ooxr5IEtSOa",
        "outputId": "b254c34c-2229-4b3c-f91b-85c3e7139e6b"
      },
      "source": [
        "gk = df_pandas[[\"State\",\"Residents providing mobile number\"]].groupby(['State']).agg(\"sum\")\n",
        "gk.plot(kind='bar')"
      ],
      "execution_count": null,
      "outputs": [
        {
          "output_type": "execute_result",
          "data": {
            "text/plain": [
              "<matplotlib.axes._subplots.AxesSubplot at 0x7fe2be8f1690>"
            ]
          },
          "metadata": {
            "tags": []
          },
          "execution_count": 60
        },
        {
          "output_type": "display_data",
          "data": {
            "image/png": "[encoded data removed]",
            "text/plain": [
              "<Figure size 432x288 with 1 Axes>"
            ]
          },
          "metadata": {
            "tags": [],
            "needs_background": "light"
          }
        }
      ]
    },
    {
      "cell_type": "code",
      "metadata": {
        "colab": {
          "base_uri": "https://localhost:8080/",
          "height": 436
        },
        "id": "CQqy6ngQt2vw",
        "outputId": "f97f90a0-2389-4fec-b68f-b5621d5e4fe6"
      },
      "source": [
        "gk = df_pandas[[\"State\",\"Residents providing email\"]].groupby(['State']).agg(\"sum\")\n",
        "gk.plot(kind='bar')"
      ],
      "execution_count": null,
      "outputs": [
        {
          "output_type": "execute_result",
          "data": {
            "text/plain": [
              "<matplotlib.axes._subplots.AxesSubplot at 0x7fe2be8cbc50>"
            ]
          },
          "metadata": {
            "tags": []
          },
          "execution_count": 61
        },
        {
          "output_type": "display_data",
          "data": {
            "image/png": "[encoded data removed]",
            "text/plain": [
              "<Figure size 432x288 with 1 Axes>"
            ]
          },
          "metadata": {
            "tags": [],
            "needs_background": "light"
          }
        }
      ]
    },
    {
      "cell_type": "code",
      "metadata": {
        "colab": {
          "base_uri": "https://localhost:8080/",
          "height": 436
        },
        "id": "CUwNf3CIuGcF",
        "outputId": "409a696b-70f0-4346-fb48-32ed55c376fd"
      },
      "source": [
        "gk = df_pandas[[\"State\",\"Enrolment Rejected\"]].groupby(['State']).agg(\"sum\")\n",
        "gk.plot(kind='bar')"
      ],
      "execution_count": null,
      "outputs": [
        {
          "output_type": "execute_result",
          "data": {
            "text/plain": [
              "<matplotlib.axes._subplots.AxesSubplot at 0x7fe2bc73dbd0>"
            ]
          },
          "metadata": {
            "tags": []
          },
          "execution_count": 65
        },
        {
          "output_type": "display_data",
          "data": {
            "image/png": "[encoded data removed]",
            "text/plain": [
              "<Figure size 432x288 with 1 Axes>"
            ]
          },
          "metadata": {
            "tags": [],
            "needs_background": "light"
          }
        }
      ]
    },
    {
      "cell_type": "code",
      "metadata": {
        "colab": {
          "base_uri": "https://localhost:8080/",
          "height": 184
        },
        "id": "wdgu_CNKuL2S",
        "outputId": "9f24038b-96e0-4db0-ba47-106244c49309"
      },
      "source": [
        "gk = df_pandas[[\"Gender\"]].groupby(['Gender']).agg(['count'])\n",
        "gk.plot(kind='bar')"
      ],
      "execution_count": null,
      "outputs": [
        {
          "output_type": "error",
          "ename": "NameError",
          "evalue": "ignored",
          "traceback": [
            "\u001b[0;31m---------------------------------------------------------------------------\u001b[0m",
            "\u001b[0;31mNameError\u001b[0m                                 Traceback (most recent call last)",
            "\u001b[0;32m<ipython-input-6-6e3a8431760f>\u001b[0m in \u001b[0;36m<module>\u001b[0;34m()\u001b[0m\n\u001b[0;32m----> 1\u001b[0;31m \u001b[0mgk\u001b[0m \u001b[0;34m=\u001b[0m \u001b[0mdf_pandas\u001b[0m\u001b[0;34m[\u001b[0m\u001b[0;34m[\u001b[0m\u001b[0;34m\"Gender\"\u001b[0m\u001b[0;34m,\u001b[0m\u001b[0;34m\"State\"\u001b[0m\u001b[0;34m]\u001b[0m\u001b[0;34m]\u001b[0m\u001b[0;34m.\u001b[0m\u001b[0mgroupby\u001b[0m\u001b[0;34m(\u001b[0m\u001b[0;34m[\u001b[0m\u001b[0;34m'Gender'\u001b[0m\u001b[0;34m]\u001b[0m\u001b[0;34m)\u001b[0m\u001b[0;34m.\u001b[0m\u001b[0magg\u001b[0m\u001b[0;34m(\u001b[0m\u001b[0;34m[\u001b[0m\u001b[0;34m'count'\u001b[0m\u001b[0;34m]\u001b[0m\u001b[0;34m)\u001b[0m\u001b[0;34m\u001b[0m\u001b[0;34m\u001b[0m\u001b[0m\n\u001b[0m\u001b[1;32m      2\u001b[0m \u001b[0mgk\u001b[0m\u001b[0;34m.\u001b[0m\u001b[0mplot\u001b[0m\u001b[0;34m(\u001b[0m\u001b[0mkind\u001b[0m\u001b[0;34m=\u001b[0m\u001b[0;34m'bar'\u001b[0m\u001b[0;34m)\u001b[0m\u001b[0;34m\u001b[0m\u001b[0;34m\u001b[0m\u001b[0m\n",
            "\u001b[0;31mNameError\u001b[0m: name 'df_pandas' is not defined"
          ]
        }
      ]
    },
    {
      "cell_type": "code",
      "metadata": {
        "colab": {
          "base_uri": "https://localhost:8080/",
          "height": 436
        },
        "id": "rFHc9jkKuVGL",
        "outputId": "d8fb4ec8-eed5-4f8d-ef47-69a78ee2a65d"
      },
      "source": [
        "gk = df_pandas[[\"State\",\"Age\"]].groupby(['State']).agg([\"mean\"])\n",
        "gk.plot(kind='bar')"
      ],
      "execution_count": null,
      "outputs": [
        {
          "output_type": "execute_result",
          "data": {
            "text/plain": [
              "<matplotlib.axes._subplots.AxesSubplot at 0x7fe2bc57ec50>"
            ]
          },
          "metadata": {
            "tags": []
          },
          "execution_count": 66
        },
        {
          "output_type": "display_data",
          "data": {
            "image/png": "[encoded data removed]",
            "text/plain": [
              "<Figure size 432x288 with 1 Axes>"
            ]
          },
          "metadata": {
            "tags": [],
            "needs_background": "light"
          }
        }
      ]
    }
  ]
}